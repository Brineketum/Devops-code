{
 "cells": [
  {
   "cell_type": "code",
   "execution_count": 1,
   "id": "3a2b7651",
   "metadata": {},
   "outputs": [
    {
     "name": "stdout",
     "output_type": "stream",
     "text": [
      "Enter the path of the CSV file: /Users/mac/Desktop/data/epicor_api - epicor_api.csv\n",
      "Enter the column name to get datatype for: value\n",
      "Datatype of each cell in the column:\n",
      "0       <class 'str'>\n",
      "1       <class 'str'>\n",
      "2       <class 'str'>\n",
      "3       <class 'str'>\n",
      "4       <class 'str'>\n",
      "            ...      \n",
      "3812    <class 'str'>\n",
      "3813    <class 'str'>\n",
      "3814    <class 'str'>\n",
      "3815    <class 'str'>\n",
      "3816    <class 'str'>\n",
      "Name: value, Length: 3817, dtype: object\n"
     ]
    }
   ],
   "source": [
    "import pandas as pd\n",
    "\n",
    "# Prompt user for file path\n",
    "file_path = input(\"Enter the path of the CSV file: \")\n",
    "\n",
    "# Load CSV file\n",
    "try:\n",
    "    df = pd.read_csv(file_path)\n",
    "except FileNotFoundError:\n",
    "    print(f\"File not found at path: {file_path}\")\n",
    "    exit()\n",
    "\n",
    "# Prompt user for column name\n",
    "column_name = input(\"Enter the column name to get datatype for: \")\n",
    "\n",
    "# Check if column exists in DataFrame\n",
    "if column_name not in df.columns:\n",
    "    print(f\"Column '{column_name}' not found in the CSV file.\")\n",
    "    exit()\n",
    "\n",
    "# Get datatype of each cell in the column\n",
    "column_dtype = df[column_name].apply(type)\n",
    "print(\"Datatype of each cell in the column:\")\n",
    "print(column_dtype)\n"
   ]
  },
  {
   "cell_type": "code",
   "execution_count": 2,
   "id": "eb6d837e",
   "metadata": {},
   "outputs": [
    {
     "name": "stdout",
     "output_type": "stream",
     "text": [
      "Enter the path of the CSV file: /Users/mac/Desktop/data/epicor_api - epicor_api.csv\n",
      "Enter the column name to check datatype for: value\n",
      "Enter the expected datatype for the column: str\n",
      "Results:\n",
      "Total cells in column 'value': 3817\n",
      "Cells with expected datatype 'str': 0\n",
      "Cells with mismatched datatype: 3817\n"
     ]
    }
   ],
   "source": [
    "import pandas as pd\n",
    "\n",
    "# Prompt user for file path\n",
    "file_path = input(\"Enter the path of the CSV file: \")\n",
    "\n",
    "# Load CSV file\n",
    "try:\n",
    "    df = pd.read_csv(file_path)\n",
    "except FileNotFoundError:\n",
    "    print(f\"File not found at path: {file_path}\")\n",
    "    exit()\n",
    "\n",
    "# Prompt user for column name\n",
    "column_name = input(\"Enter the column name to check datatype for: \")\n",
    "\n",
    "# Check if column exists in DataFrame\n",
    "if column_name not in df.columns:\n",
    "    print(f\"Column '{column_name}' not found in the CSV file.\")\n",
    "    exit()\n",
    "\n",
    "# Prompt user for expected datatype\n",
    "expected_dtype = input(\"Enter the expected datatype for the column: \")\n",
    "\n",
    "# Get datatype of each cell in the column\n",
    "column_dtype = df[column_name].apply(type)\n",
    "\n",
    "# Count matches and mismatches\n",
    "matches = (column_dtype == expected_dtype).sum()\n",
    "mismatches = (column_dtype != expected_dtype).sum()\n",
    "\n",
    "# Display results\n",
    "print(\"Results:\")\n",
    "print(f\"Total cells in column '{column_name}': {len(df)}\")\n",
    "print(f\"Cells with expected datatype '{expected_dtype}': {matches}\")\n",
    "print(f\"Cells with mismatched datatype: {mismatches}\")\n"
   ]
  },
  {
   "cell_type": "code",
   "execution_count": null,
   "id": "57a5a9a4",
   "metadata": {},
   "outputs": [],
   "source": []
  }
 ],
 "metadata": {
  "kernelspec": {
   "display_name": "Python 3 (ipykernel)",
   "language": "python",
   "name": "python3"
  },
  "language_info": {
   "codemirror_mode": {
    "name": "ipython",
    "version": 3
   },
   "file_extension": ".py",
   "mimetype": "text/x-python",
   "name": "python",
   "nbconvert_exporter": "python",
   "pygments_lexer": "ipython3",
   "version": "3.10.9"
  }
 },
 "nbformat": 4,
 "nbformat_minor": 5
}
