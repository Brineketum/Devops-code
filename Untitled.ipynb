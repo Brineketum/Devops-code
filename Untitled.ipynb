{
 "cells": [
  {
   "cell_type": "code",
   "execution_count": 1,
   "id": "1300aaa7",
   "metadata": {},
   "outputs": [
    {
     "name": "stdout",
     "output_type": "stream",
     "text": [
      "Enter the path of the CSV file: C:\\Users\\usual\\Downloads\\data\\data\\epicor_api - epicor_api.csv\n",
      " There are 3605 empty cells in the csv file\n"
     ]
    }
   ],
   "source": [
    "import pandas as pd\n",
    "\n",
    "# Prompt user for file path\n",
    "file_path = input(\"Enter the path of the CSV file: \")\n",
    "\n",
    "# Load CSV file\n",
    "try:\n",
    "    df = pd.read_csv(file_path)\n",
    "except FileNotFoundError:\n",
    "    print(f\"File not found at path: {file_path}\")\n",
    "    exit()\n",
    "    \n",
    "empty_cells = df.isnull().sum().sum()\n",
    "\n",
    "if empty_cells > 0:\n",
    "    print(f' There are {empty_cells} empty cells in the csv file')\n",
    "else:\n",
    "    print('There are no empty cells in the csv file,')"
   ]
  },
  {
   "cell_type": "code",
   "execution_count": 2,
   "id": "d2d4d739",
   "metadata": {},
   "outputs": [
    {
     "name": "stdout",
     "output_type": "stream",
     "text": [
      "Enter the path of the CSV file: C:\\Users\\usual\\Downloads\\data\\data\\epicor_api - epicor_api.csv\n",
      "Empty cells by column:\n",
      "value       746\n",
      "content    2859\n",
      "dtype: int64\n"
     ]
    }
   ],
   "source": [
    "import pandas as pd\n",
    "\n",
    "\n",
    "# Prompt user for file path\n",
    "file_path = input(\"Enter the path of the CSV file: \")\n",
    "\n",
    "# Load CSV file\n",
    "try:\n",
    "    df = pd.read_csv(file_path)\n",
    "except FileNotFoundError:\n",
    "    print(f\"File not found at path: {file_path}\")\n",
    "    exit()\n",
    "\n",
    "# Check for empty cells in columns with available data\n",
    "empty_cells_by_column = df[df.columns[df.isnull().sum() > 0]].isnull().sum()\n",
    "print(\"Empty cells by column:\")\n",
    "print(empty_cells_by_column)"
   ]
  },
  {
   "cell_type": "code",
   "execution_count": 3,
   "id": "92d0abc2",
   "metadata": {},
   "outputs": [
    {
     "name": "stdout",
     "output_type": "stream",
     "text": [
      "                  name                                        base  \\\n",
      "2       AccountBudgets      Erp.BO.AccountBudgetSvc/AccountBudgets   \n",
      "3         GLBudgetDtls        Erp.BO.AccountBudgetSvc/GLBudgetDtls   \n",
      "4                 List                Erp.BO.AccountBudgetSvc/List   \n",
      "5     ACTTypeRevisions  Erp.BO.ACTTypeRevisionSvc/ACTTypeRevisions   \n",
      "6                 List              Erp.BO.ACTTypeRevisionSvc/List   \n",
      "...                ...                                         ...   \n",
      "3812         GLAlcHeds                Erp.BO.GLAlcHedSvc/GLAlcHeds   \n",
      "3813         GLAlcDtls                Erp.BO.GLAlcHedSvc/GLAlcDtls   \n",
      "3814     GLAlcDtlTGLCs            Erp.BO.GLAlcHedSvc/GLAlcDtlTGLCs   \n",
      "3815     GLAlcHedTGLCs            Erp.BO.GLAlcHedSvc/GLAlcHedTGLCs   \n",
      "3816              List                     Erp.BO.GLAlcHedSvc/List   \n",
      "\n",
      "                                 response value content  \n",
      "2                                     200    No     NaN  \n",
      "3                                     200    No     NaN  \n",
      "4                                     200    No     NaN  \n",
      "5     Request failed with status code 500   NaN     NaN  \n",
      "6     Request failed with status code 500   NaN     NaN  \n",
      "...                                   ...   ...     ...  \n",
      "3812                                  200    No     NaN  \n",
      "3813                                  200    No     NaN  \n",
      "3814                                  200    No     NaN  \n",
      "3815                                  200    No     NaN  \n",
      "3816                                  200    No     NaN  \n",
      "\n",
      "[2859 rows x 5 columns]\n"
     ]
    }
   ],
   "source": [
    "import pandas as pd\n",
    "\n",
    "# Load CSV file\n",
    "df = pd.read_csv('epicor_api - epicor_api.csv')\n",
    "\n",
    "# Filter rows with empty cells\n",
    "rows_with_empty_cells = df[df.isnull().any(axis=1)]\n",
    "\n",
    "# Display rows with empty cells\n",
    "print(rows_with_empty_cells)\n"
   ]
  },
  {
   "cell_type": "code",
   "execution_count": 3,
   "id": "08d3a0f8",
   "metadata": {},
   "outputs": [
    {
     "name": "stdout",
     "output_type": "stream",
     "text": [
      "all records okk\n"
     ]
    }
   ],
   "source": [
    "import pandas as pd\n",
    "\n",
    "# Load CSV file\n",
    "df = pd.read_csv('epicor_api - epicor_api.csv')\n",
    "\n",
    "# Data Cleaning\n",
    "# Replace empty cells with NaN\n",
    "df.replace(\"\", float(\"nan\"), inplace=True)\n",
    "\n",
    "# Data Transformation\n",
    "# Perform data transformation operations here, e.g., converting data types, encoding categorical variables, normalizing or scaling data, etc.\n",
    "\n",
    "# Define the value to check against\n",
    "value_to_check = \"Yes\"\n",
    "\n",
    "\n",
    "#initialise flag to check if all cells are okk\n",
    "\n",
    "all_ok = True;\n",
    "\n",
    "# Check if a cell is empty with respect to a certain value from a previous cell\n",
    "for index, row in df.iterrows():\n",
    "    for col in df.columns:\n",
    "        # Get column index of current cell\n",
    "        col_index = df.columns.get_loc(col)\n",
    "        # Check if cell is empty and has a value from previous cell in the same row\n",
    "        if pd.isna(row[col]) and row.iloc[col_index-1] == value_to_check:\n",
    "            print(f\"Empty cell at index {index} in column '{col}' with respect to the value '{value_to_check}' from previous cell.\")\n",
    "            all_ok = False\n",
    "\n",
    "#print result\n",
    "\n",
    "if all_ok:\n",
    "    print(\"all records okk\")"
   ]
  },
  {
   "cell_type": "code",
   "execution_count": 4,
   "id": "c24aafe2",
   "metadata": {},
   "outputs": [
    {
     "name": "stdout",
     "output_type": "stream",
     "text": [
      "Enter the name of the column to check: C:\\Users\\usual\\Downloads\\data\\data\\epicor_api - epicor_api.csv\n",
      "Enter the value to check against: YES\n",
      "All cells are okk\n"
     ]
    }
   ],
   "source": [
    "import pandas as pd\n",
    "\n",
    "\n",
    "# Load CSV file\n",
    "df = pd.read_csv('epicor_api - epicor_api.csv')\n",
    "\n",
    "# Data Cleaning\n",
    "# Replace empty cells with NaN\n",
    "df.replace(\"\", float(\"nan\"), inplace=True)\n",
    "\n",
    "# Data Transformation\n",
    "# Perform data transformation operations here, e.g., converting data types, encoding categorical variables, normalizing or scaling data, etc.\n",
    "\n",
    "# Prompt user for column and value to check against\n",
    "column_to_check = input(\"Enter the name of the column to check: \")\n",
    "value_to_check = input(\"Enter the value to check against: \")\n",
    "\n",
    "# Initialize flag to track if all cells are OK\n",
    "all_ok = True\n",
    "\n",
    "# Check if a cell is empty with respect to the specified value from a previous cell\n",
    "for index, row in df.iterrows():\n",
    "    for col in df.columns:\n",
    "        # Get column index of current cell\n",
    "        col_index = df.columns.get_loc(col)\n",
    "        # Check if cell is empty and has a value from previous cell in the same row, and if the previous cell value matches the specified value\n",
    "        if pd.isna(row[col]) and row.iloc[col_index-1] == value_to_check and col == column_to_check:\n",
    "            print(f\"Empty cell at index {index} in column '{col}' with respect to the value '{value_to_check}' from previous cell.\")\n",
    "            all_ok = False\n",
    "\n",
    "# Print result\n",
    "if all_ok:\n",
    "    print(\"All cells are okk\")\n"
   ]
  },
  {
   "cell_type": "code",
   "execution_count": 5,
   "id": "e13b45b7",
   "metadata": {},
   "outputs": [
    {
     "name": "stdout",
     "output_type": "stream",
     "text": [
      "Enter the path of the CSV file: C:\\Users\\usual\\Downloads\\data\\data\\epicor_api - epicor_api.csv\n",
      "Enter the name of column A: VALUE\n",
      "Enter the name of column B: CONTENT\n",
      "Enter the value to check against in column A: YES\n"
     ]
    },
    {
     "ename": "KeyError",
     "evalue": "'VALUE'",
     "output_type": "error",
     "traceback": [
      "\u001b[1;31m---------------------------------------------------------------------------\u001b[0m",
      "\u001b[1;31mKeyError\u001b[0m                                  Traceback (most recent call last)",
      "File \u001b[1;32m~\\anaconda3\\lib\\site-packages\\pandas\\core\\indexes\\base.py:3802\u001b[0m, in \u001b[0;36mIndex.get_loc\u001b[1;34m(self, key, method, tolerance)\u001b[0m\n\u001b[0;32m   3801\u001b[0m \u001b[38;5;28;01mtry\u001b[39;00m:\n\u001b[1;32m-> 3802\u001b[0m     \u001b[38;5;28;01mreturn\u001b[39;00m \u001b[38;5;28;43mself\u001b[39;49m\u001b[38;5;241;43m.\u001b[39;49m\u001b[43m_engine\u001b[49m\u001b[38;5;241;43m.\u001b[39;49m\u001b[43mget_loc\u001b[49m\u001b[43m(\u001b[49m\u001b[43mcasted_key\u001b[49m\u001b[43m)\u001b[49m\n\u001b[0;32m   3803\u001b[0m \u001b[38;5;28;01mexcept\u001b[39;00m \u001b[38;5;167;01mKeyError\u001b[39;00m \u001b[38;5;28;01mas\u001b[39;00m err:\n",
      "File \u001b[1;32m~\\anaconda3\\lib\\site-packages\\pandas\\_libs\\index.pyx:138\u001b[0m, in \u001b[0;36mpandas._libs.index.IndexEngine.get_loc\u001b[1;34m()\u001b[0m\n",
      "File \u001b[1;32m~\\anaconda3\\lib\\site-packages\\pandas\\_libs\\index.pyx:165\u001b[0m, in \u001b[0;36mpandas._libs.index.IndexEngine.get_loc\u001b[1;34m()\u001b[0m\n",
      "File \u001b[1;32mpandas\\_libs\\hashtable_class_helper.pxi:5745\u001b[0m, in \u001b[0;36mpandas._libs.hashtable.PyObjectHashTable.get_item\u001b[1;34m()\u001b[0m\n",
      "File \u001b[1;32mpandas\\_libs\\hashtable_class_helper.pxi:5753\u001b[0m, in \u001b[0;36mpandas._libs.hashtable.PyObjectHashTable.get_item\u001b[1;34m()\u001b[0m\n",
      "\u001b[1;31mKeyError\u001b[0m: 'VALUE'",
      "\nThe above exception was the direct cause of the following exception:\n",
      "\u001b[1;31mKeyError\u001b[0m                                  Traceback (most recent call last)",
      "Cell \u001b[1;32mIn[5], line 30\u001b[0m\n\u001b[0;32m     28\u001b[0m \u001b[38;5;66;03m# Check if value of column A is equal to value_to_check and corresponding cell in column B is not empty\u001b[39;00m\n\u001b[0;32m     29\u001b[0m \u001b[38;5;28;01mfor\u001b[39;00m index, row \u001b[38;5;129;01min\u001b[39;00m df\u001b[38;5;241m.\u001b[39miterrows():\n\u001b[1;32m---> 30\u001b[0m     \u001b[38;5;28;01mif\u001b[39;00m \u001b[43mrow\u001b[49m\u001b[43m[\u001b[49m\u001b[43mcolumn_a\u001b[49m\u001b[43m]\u001b[49m \u001b[38;5;241m==\u001b[39m value_to_check \u001b[38;5;129;01mand\u001b[39;00m pd\u001b[38;5;241m.\u001b[39misna(row[column_b]):\n\u001b[0;32m     31\u001b[0m         \u001b[38;5;28mprint\u001b[39m(\u001b[38;5;124mf\u001b[39m\u001b[38;5;124m\"\u001b[39m\u001b[38;5;124mEmpty cell at index \u001b[39m\u001b[38;5;132;01m{\u001b[39;00mindex\u001b[38;5;132;01m}\u001b[39;00m\u001b[38;5;124m in column \u001b[39m\u001b[38;5;124m'\u001b[39m\u001b[38;5;132;01m{\u001b[39;00mcolumn_b\u001b[38;5;132;01m}\u001b[39;00m\u001b[38;5;124m'\u001b[39m\u001b[38;5;124m with respect to the value \u001b[39m\u001b[38;5;124m'\u001b[39m\u001b[38;5;132;01m{\u001b[39;00mvalue_to_check\u001b[38;5;132;01m}\u001b[39;00m\u001b[38;5;124m'\u001b[39m\u001b[38;5;124m in column \u001b[39m\u001b[38;5;124m'\u001b[39m\u001b[38;5;132;01m{\u001b[39;00mcolumn_a\u001b[38;5;132;01m}\u001b[39;00m\u001b[38;5;124m'\u001b[39m\u001b[38;5;124m.\u001b[39m\u001b[38;5;124m\"\u001b[39m)\n\u001b[0;32m     32\u001b[0m         all_ok \u001b[38;5;241m=\u001b[39m \u001b[38;5;28;01mFalse\u001b[39;00m;\n",
      "File \u001b[1;32m~\\anaconda3\\lib\\site-packages\\pandas\\core\\series.py:981\u001b[0m, in \u001b[0;36mSeries.__getitem__\u001b[1;34m(self, key)\u001b[0m\n\u001b[0;32m    978\u001b[0m     \u001b[38;5;28;01mreturn\u001b[39;00m \u001b[38;5;28mself\u001b[39m\u001b[38;5;241m.\u001b[39m_values[key]\n\u001b[0;32m    980\u001b[0m \u001b[38;5;28;01melif\u001b[39;00m key_is_scalar:\n\u001b[1;32m--> 981\u001b[0m     \u001b[38;5;28;01mreturn\u001b[39;00m \u001b[38;5;28;43mself\u001b[39;49m\u001b[38;5;241;43m.\u001b[39;49m\u001b[43m_get_value\u001b[49m\u001b[43m(\u001b[49m\u001b[43mkey\u001b[49m\u001b[43m)\u001b[49m\n\u001b[0;32m    983\u001b[0m \u001b[38;5;28;01mif\u001b[39;00m is_hashable(key):\n\u001b[0;32m    984\u001b[0m     \u001b[38;5;66;03m# Otherwise index.get_value will raise InvalidIndexError\u001b[39;00m\n\u001b[0;32m    985\u001b[0m     \u001b[38;5;28;01mtry\u001b[39;00m:\n\u001b[0;32m    986\u001b[0m         \u001b[38;5;66;03m# For labels that don't resolve as scalars like tuples and frozensets\u001b[39;00m\n",
      "File \u001b[1;32m~\\anaconda3\\lib\\site-packages\\pandas\\core\\series.py:1089\u001b[0m, in \u001b[0;36mSeries._get_value\u001b[1;34m(self, label, takeable)\u001b[0m\n\u001b[0;32m   1086\u001b[0m     \u001b[38;5;28;01mreturn\u001b[39;00m \u001b[38;5;28mself\u001b[39m\u001b[38;5;241m.\u001b[39m_values[label]\n\u001b[0;32m   1088\u001b[0m \u001b[38;5;66;03m# Similar to Index.get_value, but we do not fall back to positional\u001b[39;00m\n\u001b[1;32m-> 1089\u001b[0m loc \u001b[38;5;241m=\u001b[39m \u001b[38;5;28;43mself\u001b[39;49m\u001b[38;5;241;43m.\u001b[39;49m\u001b[43mindex\u001b[49m\u001b[38;5;241;43m.\u001b[39;49m\u001b[43mget_loc\u001b[49m\u001b[43m(\u001b[49m\u001b[43mlabel\u001b[49m\u001b[43m)\u001b[49m\n\u001b[0;32m   1090\u001b[0m \u001b[38;5;28;01mreturn\u001b[39;00m \u001b[38;5;28mself\u001b[39m\u001b[38;5;241m.\u001b[39mindex\u001b[38;5;241m.\u001b[39m_get_values_for_loc(\u001b[38;5;28mself\u001b[39m, loc, label)\n",
      "File \u001b[1;32m~\\anaconda3\\lib\\site-packages\\pandas\\core\\indexes\\base.py:3804\u001b[0m, in \u001b[0;36mIndex.get_loc\u001b[1;34m(self, key, method, tolerance)\u001b[0m\n\u001b[0;32m   3802\u001b[0m     \u001b[38;5;28;01mreturn\u001b[39;00m \u001b[38;5;28mself\u001b[39m\u001b[38;5;241m.\u001b[39m_engine\u001b[38;5;241m.\u001b[39mget_loc(casted_key)\n\u001b[0;32m   3803\u001b[0m \u001b[38;5;28;01mexcept\u001b[39;00m \u001b[38;5;167;01mKeyError\u001b[39;00m \u001b[38;5;28;01mas\u001b[39;00m err:\n\u001b[1;32m-> 3804\u001b[0m     \u001b[38;5;28;01mraise\u001b[39;00m \u001b[38;5;167;01mKeyError\u001b[39;00m(key) \u001b[38;5;28;01mfrom\u001b[39;00m \u001b[38;5;21;01merr\u001b[39;00m\n\u001b[0;32m   3805\u001b[0m \u001b[38;5;28;01mexcept\u001b[39;00m \u001b[38;5;167;01mTypeError\u001b[39;00m:\n\u001b[0;32m   3806\u001b[0m     \u001b[38;5;66;03m# If we have a listlike key, _check_indexing_error will raise\u001b[39;00m\n\u001b[0;32m   3807\u001b[0m     \u001b[38;5;66;03m#  InvalidIndexError. Otherwise we fall through and re-raise\u001b[39;00m\n\u001b[0;32m   3808\u001b[0m     \u001b[38;5;66;03m#  the TypeError.\u001b[39;00m\n\u001b[0;32m   3809\u001b[0m     \u001b[38;5;28mself\u001b[39m\u001b[38;5;241m.\u001b[39m_check_indexing_error(key)\n",
      "\u001b[1;31mKeyError\u001b[0m: 'VALUE'"
     ]
    }
   ],
   "source": [
    "import pandas as pd\n",
    "\n",
    "# Prompt user for file path\n",
    "file_path = input(\"url googlesheets: \")\n",
    "\n",
    "# Load CSV file\n",
    "try:\n",
    "    df = pd.read_csv(file_path)\n",
    "except FileNotFoundError:\n",
    "    print(f\"File not found at path: {file_path}\")\n",
    "    exit()\n",
    "\n",
    "# Replace empty cells with NaN\n",
    "df.replace(\"\", float(\"nan\"), inplace=True)\n",
    "\n",
    "# Prompt user for columns to check\n",
    "column_a = input(\"Enter the name of column A: \")\n",
    "column_b = input(\"Enter the name of column B: \")\n",
    "\n",
    "# Prompt user for value to check against in first column A\n",
    "value_to_check = input(\"Enter the value to check against in column A: \")\n",
    "\n",
    "# Check if value of column A is equal to value_to_check and corresponding cell in column B is not empty\n",
    "num_empty_cells = 0\n",
    "\n",
    "all_ok = True;\n",
    "\n",
    "# Check if value of column A is equal to value_to_check and corresponding cell in column B is not empty\n",
    "for index, row in df.iterrows():\n",
    "    if row[column_a] == value_to_check and pd.isna(row[column_b]):\n",
    "        print(f\"Empty cell at index {index} in column '{column_b}' with respect to the value '{value_to_check}' in column '{column_a}'.\")\n",
    "        all_ok = False;\n",
    "        num_empty_cells += 1\n",
    "        \n",
    "\n",
    "if all_ok:\n",
    "    print(\"There are no empty records with respect to the provided information\")\n",
    "# Print the count of empty cells in column B after the check\n",
    "print(f\"Number of empty cells in column '{column_b}' after checking against value '{value_to_check}' in column '{column_a}': {num_empty_cells}\")"
   ]
  },
  {
   "cell_type": "code",
   "execution_count": 7,
   "id": "9033eaa5",
   "metadata": {},
   "outputs": [
    {
     "name": "stdout",
     "output_type": "stream",
     "text": [
      "Enter the column name to check: value\n",
      "Number of empty cells in column 'value': 746\n"
     ]
    }
   ],
   "source": [
    "import pandas as pd\n",
    "\n",
    "# Prompt user for file path\n",
    "# file_path = input(\"Enter the path of the CSV file: \")\n",
    "\n",
    "# Load CSV file\n",
    "# df = pd.read_csv(file_path)\n",
    "df = pd.read_csv('epicor_api - epicor_api.csv')\n",
    "\n",
    "\n",
    "# Data Cleaning\n",
    "# Replace empty cells with NaN\n",
    "df.replace(\"\", float(\"nan\"), inplace=True)\n",
    "\n",
    "# Prompt user for column name to check\n",
    "column_name = input(\"Enter the column name to check: \")\n",
    "\n",
    "# Count number of empty cells in the specified column\n",
    "num_empty_cells = df[column_name].isna().sum()\n",
    "\n",
    "# Print the count of empty cells in the specified column\n",
    "print(f\"Number of empty cells in column '{column_name}': {num_empty_cells}\")\n"
   ]
  },
  {
   "cell_type": "code",
   "execution_count": null,
   "id": "e4328b93",
   "metadata": {},
   "outputs": [],
   "source": [
    "import pandas as pd\n",
    "\n",
    "# Prompt user for file path\n",
    "# file_path = input(\"Enter the path of the CSV file: \")\n",
    "\n",
    "# Load CSV file\n",
    "# df = pd.read_csv(file_path)\n",
    "df = pd.read_csv('epicor_api - epicor_api.csv')\n",
    "\n",
    "# Prompt user for column name to check\n",
    "column_name = input(\"Enter the column name to check: \")\n",
    "\n",
    "# Prompt user for expected datatype\n",
    "expected_dtype = input(\"Enter the expected datatype: \")\n",
    "\n",
    "# Check for datatype differences\n",
    "if df[column_name].dtype != expected_dtype:\n",
    "    print(f\"Datatype of column '{column_name}' is different from expected datatype: \"\n",
    "          f\"Expected {expected_dtype}, Found {df[column_name].dtype}\")\n",
    "else:\n",
    "    print(f\"Datatype of column '{column_name}' matches the expected datatype: {expected_dtype}\")\n"
   ]
  },
  {
   "cell_type": "code",
   "execution_count": 1,
   "id": "b0ffd250",
   "metadata": {},
   "outputs": [
    {
     "name": "stdout",
     "output_type": "stream",
     "text": [
      "Enter the path of the CSV file: C:\\Users\\usual\\Downloads\\data\\data\\epicor_api - epicor_api.csv\n",
      "Enter the column name to check: Content\n",
      "Column 'Content' not found in the CSV file.\n",
      "Enter the expected datatype: string\n"
     ]
    },
    {
     "ename": "KeyError",
     "evalue": "'Content'",
     "output_type": "error",
     "traceback": [
      "\u001b[1;31m---------------------------------------------------------------------------\u001b[0m",
      "\u001b[1;31mKeyError\u001b[0m                                  Traceback (most recent call last)",
      "File \u001b[1;32m~\\anaconda3\\lib\\site-packages\\pandas\\core\\indexes\\base.py:3802\u001b[0m, in \u001b[0;36mIndex.get_loc\u001b[1;34m(self, key, method, tolerance)\u001b[0m\n\u001b[0;32m   3801\u001b[0m \u001b[38;5;28;01mtry\u001b[39;00m:\n\u001b[1;32m-> 3802\u001b[0m     \u001b[38;5;28;01mreturn\u001b[39;00m \u001b[38;5;28;43mself\u001b[39;49m\u001b[38;5;241;43m.\u001b[39;49m\u001b[43m_engine\u001b[49m\u001b[38;5;241;43m.\u001b[39;49m\u001b[43mget_loc\u001b[49m\u001b[43m(\u001b[49m\u001b[43mcasted_key\u001b[49m\u001b[43m)\u001b[49m\n\u001b[0;32m   3803\u001b[0m \u001b[38;5;28;01mexcept\u001b[39;00m \u001b[38;5;167;01mKeyError\u001b[39;00m \u001b[38;5;28;01mas\u001b[39;00m err:\n",
      "File \u001b[1;32m~\\anaconda3\\lib\\site-packages\\pandas\\_libs\\index.pyx:138\u001b[0m, in \u001b[0;36mpandas._libs.index.IndexEngine.get_loc\u001b[1;34m()\u001b[0m\n",
      "File \u001b[1;32m~\\anaconda3\\lib\\site-packages\\pandas\\_libs\\index.pyx:165\u001b[0m, in \u001b[0;36mpandas._libs.index.IndexEngine.get_loc\u001b[1;34m()\u001b[0m\n",
      "File \u001b[1;32mpandas\\_libs\\hashtable_class_helper.pxi:5745\u001b[0m, in \u001b[0;36mpandas._libs.hashtable.PyObjectHashTable.get_item\u001b[1;34m()\u001b[0m\n",
      "File \u001b[1;32mpandas\\_libs\\hashtable_class_helper.pxi:5753\u001b[0m, in \u001b[0;36mpandas._libs.hashtable.PyObjectHashTable.get_item\u001b[1;34m()\u001b[0m\n",
      "\u001b[1;31mKeyError\u001b[0m: 'Content'",
      "\nThe above exception was the direct cause of the following exception:\n",
      "\u001b[1;31mKeyError\u001b[0m                                  Traceback (most recent call last)",
      "Cell \u001b[1;32mIn[1], line 25\u001b[0m\n\u001b[0;32m     22\u001b[0m expected_dtype \u001b[38;5;241m=\u001b[39m \u001b[38;5;28minput\u001b[39m(\u001b[38;5;124m\"\u001b[39m\u001b[38;5;124mEnter the expected datatype: \u001b[39m\u001b[38;5;124m\"\u001b[39m)\n\u001b[0;32m     24\u001b[0m \u001b[38;5;66;03m# Check for datatype differences\u001b[39;00m\n\u001b[1;32m---> 25\u001b[0m \u001b[38;5;28;01mif\u001b[39;00m \u001b[43mdf\u001b[49m\u001b[43m[\u001b[49m\u001b[43mcolumn_name\u001b[49m\u001b[43m]\u001b[49m\u001b[38;5;241m.\u001b[39mdtype \u001b[38;5;241m!=\u001b[39m expected_dtype:\n\u001b[0;32m     26\u001b[0m     \u001b[38;5;28mprint\u001b[39m(\u001b[38;5;124mf\u001b[39m\u001b[38;5;124m\"\u001b[39m\u001b[38;5;124mDatatype of column \u001b[39m\u001b[38;5;124m'\u001b[39m\u001b[38;5;132;01m{\u001b[39;00mcolumn_name\u001b[38;5;132;01m}\u001b[39;00m\u001b[38;5;124m'\u001b[39m\u001b[38;5;124m is different from expected datatype: \u001b[39m\u001b[38;5;124m\"\u001b[39m\n\u001b[0;32m     27\u001b[0m           \u001b[38;5;124mf\u001b[39m\u001b[38;5;124m\"\u001b[39m\u001b[38;5;124mExpected \u001b[39m\u001b[38;5;132;01m{\u001b[39;00mexpected_dtype\u001b[38;5;132;01m}\u001b[39;00m\u001b[38;5;124m, Found \u001b[39m\u001b[38;5;132;01m{\u001b[39;00mdf[column_name]\u001b[38;5;241m.\u001b[39mdtype\u001b[38;5;132;01m}\u001b[39;00m\u001b[38;5;124m\"\u001b[39m)\n\u001b[0;32m     28\u001b[0m \u001b[38;5;28;01melse\u001b[39;00m:\n",
      "File \u001b[1;32m~\\anaconda3\\lib\\site-packages\\pandas\\core\\frame.py:3807\u001b[0m, in \u001b[0;36mDataFrame.__getitem__\u001b[1;34m(self, key)\u001b[0m\n\u001b[0;32m   3805\u001b[0m \u001b[38;5;28;01mif\u001b[39;00m \u001b[38;5;28mself\u001b[39m\u001b[38;5;241m.\u001b[39mcolumns\u001b[38;5;241m.\u001b[39mnlevels \u001b[38;5;241m>\u001b[39m \u001b[38;5;241m1\u001b[39m:\n\u001b[0;32m   3806\u001b[0m     \u001b[38;5;28;01mreturn\u001b[39;00m \u001b[38;5;28mself\u001b[39m\u001b[38;5;241m.\u001b[39m_getitem_multilevel(key)\n\u001b[1;32m-> 3807\u001b[0m indexer \u001b[38;5;241m=\u001b[39m \u001b[38;5;28;43mself\u001b[39;49m\u001b[38;5;241;43m.\u001b[39;49m\u001b[43mcolumns\u001b[49m\u001b[38;5;241;43m.\u001b[39;49m\u001b[43mget_loc\u001b[49m\u001b[43m(\u001b[49m\u001b[43mkey\u001b[49m\u001b[43m)\u001b[49m\n\u001b[0;32m   3808\u001b[0m \u001b[38;5;28;01mif\u001b[39;00m is_integer(indexer):\n\u001b[0;32m   3809\u001b[0m     indexer \u001b[38;5;241m=\u001b[39m [indexer]\n",
      "File \u001b[1;32m~\\anaconda3\\lib\\site-packages\\pandas\\core\\indexes\\base.py:3804\u001b[0m, in \u001b[0;36mIndex.get_loc\u001b[1;34m(self, key, method, tolerance)\u001b[0m\n\u001b[0;32m   3802\u001b[0m     \u001b[38;5;28;01mreturn\u001b[39;00m \u001b[38;5;28mself\u001b[39m\u001b[38;5;241m.\u001b[39m_engine\u001b[38;5;241m.\u001b[39mget_loc(casted_key)\n\u001b[0;32m   3803\u001b[0m \u001b[38;5;28;01mexcept\u001b[39;00m \u001b[38;5;167;01mKeyError\u001b[39;00m \u001b[38;5;28;01mas\u001b[39;00m err:\n\u001b[1;32m-> 3804\u001b[0m     \u001b[38;5;28;01mraise\u001b[39;00m \u001b[38;5;167;01mKeyError\u001b[39;00m(key) \u001b[38;5;28;01mfrom\u001b[39;00m \u001b[38;5;21;01merr\u001b[39;00m\n\u001b[0;32m   3805\u001b[0m \u001b[38;5;28;01mexcept\u001b[39;00m \u001b[38;5;167;01mTypeError\u001b[39;00m:\n\u001b[0;32m   3806\u001b[0m     \u001b[38;5;66;03m# If we have a listlike key, _check_indexing_error will raise\u001b[39;00m\n\u001b[0;32m   3807\u001b[0m     \u001b[38;5;66;03m#  InvalidIndexError. Otherwise we fall through and re-raise\u001b[39;00m\n\u001b[0;32m   3808\u001b[0m     \u001b[38;5;66;03m#  the TypeError.\u001b[39;00m\n\u001b[0;32m   3809\u001b[0m     \u001b[38;5;28mself\u001b[39m\u001b[38;5;241m.\u001b[39m_check_indexing_error(key)\n",
      "\u001b[1;31mKeyError\u001b[0m: 'Content'"
     ]
    }
   ],
   "source": [
    "import pandas as pd\n",
    "\n",
    "# Prompt user for file path\n",
    "file_path = input(\"Enter the path of the CSV file: \")\n",
    "\n",
    "# Load CSV file\n",
    "try:\n",
    "    df = pd.read_csv(file_path)\n",
    "except FileNotFoundError:\n",
    "    print(f\"File not found at path: {file_path}\")\n",
    "    exit()\n",
    "\n",
    "# Prompt user for column name to check\n",
    "column_name = input(\"Enter the column name to check: \")\n",
    "\n",
    "# Check if column exists in DataFrame\n",
    "if column_name not in df.columns:\n",
    "    print(f\"Column '{column_name}' not found in the CSV file.\")\n",
    "    exit()\n",
    "\n",
    "# Prompt user for expected datatype\n",
    "expected_dtype = input(\"Enter the expected datatype: \")\n",
    "\n",
    "# Check for datatype differences\n",
    "if df[column_name].dtype != expected_dtype:\n",
    "    print(f\"Datatype of column '{column_name}' is different from expected datatype: \"\n",
    "          f\"Expected {expected_dtype}, Found {df[column_name].dtype}\")\n",
    "else:\n",
    "    print(f\"Datatype of column '{column_name}' matches the expected datatype: {expected_dtype}\")\n"
   ]
  },
  {
   "cell_type": "code",
   "execution_count": 10,
   "id": "43a27f79",
   "metadata": {},
   "outputs": [
    {
     "name": "stdout",
     "output_type": "stream",
     "text": [
      "Enter the path of the CSV file: C:\\Users\\usual\\Downloads\\data\\data\\epicor_api - epicor_api.csv\n",
      "Enter the name of column A: value\n",
      "Enter the name of column B: content\n",
      "Enter the value to check against in column A: list\n",
      "There are no empty records with respect to the provided information\n",
      "Number of empty cells in column 'content' after checking against value 'list' in column 'value': 0\n"
     ]
    }
   ],
   "source": [
    "import pandas as pd\n",
    "\n",
    "# Prompt user for file path\n",
    "file_path = input(\"Enter the path of the CSV file: \")\n",
    "\n",
    "# Load CSV file\n",
    "try:\n",
    "    df = pd.read_csv(file_path)\n",
    "except FileNotFoundError:\n",
    "    print(f\"File not found at path: {file_path}\")\n",
    "    exit()\n",
    "\n",
    "# Replace empty cells with NaN\n",
    "df.replace(\"\", float(\"nan\"), inplace=True)\n",
    "\n",
    "# Prompt user for columns to check\n",
    "column_a = input(\"Enter the name of column A: \")\n",
    "column_b = input(\"Enter the name of column B: \")\n",
    "\n",
    "# Prompt user for value to check against in first column A\n",
    "value_to_check = input(\"Enter the value to check against in column A: \")\n",
    "\n",
    "# Check if value of column A is equal to value_to_check and corresponding cell in column B is not empty\n",
    "num_empty_cells = 0\n",
    "\n",
    "all_ok = True;\n",
    "\n",
    "# Check if value of column A is equal to value_to_check and corresponding cell in column B is not empty\n",
    "for index, row in df.iterrows():\n",
    "    if row[column_a] == value_to_check and pd.isna(row[column_b]):\n",
    "        print(f\"Empty cell at index {index+2} in column '{column_b}' with respect to the value '{value_to_check}' in column '{column_a}'.\")\n",
    "        all_ok = False;\n",
    "        num_empty_cells += 1\n",
    "        \n",
    "\n",
    "if all_ok:\n",
    "    print(\"There are no empty records with respect to the provided information\")\n",
    "# Print the count of empty cells in column B after the check\n",
    "print(f\"Number of empty cells in column '{column_b}' after checking against value '{value_to_check}' in column '{column_a}': {num_empty_cells}\")"
   ]
  },
  {
   "cell_type": "code",
   "execution_count": null,
   "id": "2d31f85b",
   "metadata": {},
   "outputs": [],
   "source": []
  },
  {
   "cell_type": "code",
   "execution_count": null,
   "id": "cbbe6141",
   "metadata": {},
   "outputs": [],
   "source": []
  }
 ],
 "metadata": {
  "kernelspec": {
   "display_name": "Python 3 (ipykernel)",
   "language": "python",
   "name": "python3"
  },
  "language_info": {
   "codemirror_mode": {
    "name": "ipython",
    "version": 3
   },
   "file_extension": ".py",
   "mimetype": "text/x-python",
   "name": "python",
   "nbconvert_exporter": "python",
   "pygments_lexer": "ipython3",
   "version": "3.10.9"
  }
 },
 "nbformat": 4,
 "nbformat_minor": 5
}
